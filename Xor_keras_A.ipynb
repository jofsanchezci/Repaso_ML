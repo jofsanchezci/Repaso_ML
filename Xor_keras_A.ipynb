{
  "nbformat": 4,
  "nbformat_minor": 0,
  "metadata": {
    "colab": {
      "provenance": []
    },
    "kernelspec": {
      "name": "python3",
      "display_name": "Python 3"
    },
    "language_info": {
      "name": "python"
    },
    "gpuClass": "standard",
    "accelerator": "GPU"
  },
  "cells": [
    {
      "cell_type": "code",
      "source": [
        "#Importamos las librerias necesarias\n",
        "from matplotlib import pyplot as plt\n",
        "import numpy as np\n",
        "import pandas as pd\n",
        "import seaborn as sns"
      ],
      "metadata": {
        "id": "rjGpjRFCqPgg"
      },
      "execution_count": 1,
      "outputs": []
    },
    {
      "cell_type": "code",
      "source": [
        "#Se crea la compuerta\n",
        "X_gate = np.array([\n",
        "    1, 1,\n",
        "    1, 0,\n",
        "    0, 1,\n",
        "    0, 0\n",
        "]).reshape(4, 2)\n",
        "\n",
        "xor = np.array([0, 1, 1, 0]).reshape(4,)\n",
        "or_ = np.array([1, 1, 1, 0]).reshape(4,)\n",
        "and_ = np.array([1, 0, 0, 0]).reshape(4,)\n",
        "nand_ = np.array([0, 1, 1, 1]).reshape(4,)"
      ],
      "metadata": {
        "id": "MSgszaSc-FFz"
      },
      "execution_count": 2,
      "outputs": []
    },
    {
      "cell_type": "code",
      "source": [
        "#Imprimimos las compuertas\n",
        "print(xor, 'XOR')\n",
        "print('------------')\n",
        "print(or_, 'OR')\n",
        "print('------------')\n",
        "print(and_ ,'AND')\n",
        "print('------------')\n",
        "print(nand_,'NAND')"
      ],
      "metadata": {
        "colab": {
          "base_uri": "https://localhost:8080/"
        },
        "id": "cRVlvwOLsXd7",
        "outputId": "067fd3ba-1be2-43a3-e31f-ab15c06e6799"
      },
      "execution_count": 5,
      "outputs": [
        {
          "output_type": "stream",
          "name": "stdout",
          "text": [
            "[0 1 1 0] XOR\n",
            "------------\n",
            "[1 1 1 0] OR\n",
            "------------\n",
            "[1 0 0 0] AND\n",
            "------------\n",
            "[0 1 1 1] NAND\n"
          ]
        }
      ]
    },
    {
      "cell_type": "markdown",
      "source": [
        "# __XOR__"
      ],
      "metadata": {
        "id": "Pj5f4kS_Bwxn"
      }
    },
    {
      "cell_type": "code",
      "source": [
        "import tensorflow as tf"
      ],
      "metadata": {
        "id": "oow4zW15M4Gx"
      },
      "execution_count": 6,
      "outputs": []
    },
    {
      "cell_type": "code",
      "source": [
        "# 12548667\n",
        "tf.random.set_seed(25)  # Establecer la semilla (resultados reproducibles)\n",
        "tf.keras.backend.clear_session()\n",
        "\n",
        "model = tf.keras.Sequential() # redes completamente conectadas\n",
        "\n",
        "model.add(tf.keras.layers.Input(shape=(2,))) # capa de entrada\n",
        "model.add(tf.keras.layers.Dense(5, activation=\"sigmoid\")) # capa oculta 1\n",
        "model.add(tf.keras.layers.Dense(5, activation=\"sigmoid\")) # capa oculta 2\n",
        "model.add(tf.keras.layers.Dense(1, activation=\"sigmoid\")) # capa de salida"
      ],
      "metadata": {
        "id": "AZAyR81mM4BU"
      },
      "execution_count": 7,
      "outputs": []
    },
    {
      "cell_type": "code",
      "source": [
        "#Se muestra un resumen del modelo\n",
        "model.summary()"
      ],
      "metadata": {
        "colab": {
          "base_uri": "https://localhost:8080/"
        },
        "id": "RlmJqrKMNIxc",
        "outputId": "541e7db3-b028-4726-ac8e-141e73462631"
      },
      "execution_count": 8,
      "outputs": [
        {
          "output_type": "stream",
          "name": "stdout",
          "text": [
            "Model: \"sequential\"\n",
            "_________________________________________________________________\n",
            " Layer (type)                Output Shape              Param #   \n",
            "=================================================================\n",
            " dense (Dense)               (None, 5)                 15        \n",
            "                                                                 \n",
            " dense_1 (Dense)             (None, 5)                 30        \n",
            "                                                                 \n",
            " dense_2 (Dense)             (None, 1)                 6         \n",
            "                                                                 \n",
            "=================================================================\n",
            "Total params: 51\n",
            "Trainable params: 51\n",
            "Non-trainable params: 0\n",
            "_________________________________________________________________\n"
          ]
        }
      ]
    },
    {
      "cell_type": "code",
      "source": [
        "#revisamos las capas del modelo\n",
        "print(model.layers)"
      ],
      "metadata": {
        "colab": {
          "base_uri": "https://localhost:8080/"
        },
        "id": "fWAtn62bPRCd",
        "outputId": "1cee0383-7f5e-4eed-e746-960ea676726e"
      },
      "execution_count": 10,
      "outputs": [
        {
          "output_type": "stream",
          "name": "stdout",
          "text": [
            "[<keras.layers.core.dense.Dense object at 0x7efd9c6c7ca0>, <keras.layers.core.dense.Dense object at 0x7efd9c61d4e0>, <keras.layers.core.dense.Dense object at 0x7efd9c61dd20>]\n"
          ]
        }
      ]
    },
    {
      "cell_type": "code",
      "source": [
        "#Obtenemos los pesos del modelo\n",
        "model.get_weights()"
      ],
      "metadata": {
        "colab": {
          "base_uri": "https://localhost:8080/"
        },
        "id": "FEkv-Sy9PWqz",
        "outputId": "2068405f-a4d7-4abb-b80f-85e626d28b47"
      },
      "execution_count": 11,
      "outputs": [
        {
          "output_type": "execute_result",
          "data": {
            "text/plain": [
              "[array([[ 0.80763674, -0.8944551 , -0.31253874, -0.8697083 , -0.67002714],\n",
              "        [ 0.00500757, -0.8252112 , -0.09062886,  0.20976782, -0.8355433 ]],\n",
              "       dtype=float32),\n",
              " array([0., 0., 0., 0., 0.], dtype=float32),\n",
              " array([[-0.41662174,  0.66697156, -0.5512529 ,  0.38627613, -0.03353721],\n",
              "        [ 0.43941367,  0.24070704,  0.2765937 ,  0.41934597, -0.22836792],\n",
              "        [ 0.34578347,  0.6223893 , -0.43053892,  0.43529475, -0.57674277],\n",
              "        [-0.5132443 , -0.76136243, -0.63648486,  0.14216143,  0.42769694],\n",
              "        [ 0.61897814, -0.6599261 ,  0.38676143, -0.5577708 , -0.14598554]],\n",
              "       dtype=float32),\n",
              " array([0., 0., 0., 0., 0.], dtype=float32),\n",
              " array([[-0.09771442],\n",
              "        [-0.47961116],\n",
              "        [ 0.16269445],\n",
              "        [ 0.28894544],\n",
              "        [-0.8419061 ]], dtype=float32),\n",
              " array([0.], dtype=float32)]"
            ]
          },
          "metadata": {},
          "execution_count": 11
        }
      ]
    },
    {
      "cell_type": "code",
      "source": [
        "#revisamos los pesos y el bias (umbral) de la capa 1\n",
        "weights, bias = model.layers[1].get_weights()"
      ],
      "metadata": {
        "id": "uV3vwRR4PbQ-"
      },
      "execution_count": 12,
      "outputs": []
    },
    {
      "cell_type": "code",
      "source": [
        "#se muestran los pesos de las 5 neuronas.\n",
        "#por cada entrada un peso.\n",
        "#como son dos entradas la cantidad de pesos es 5 x 5\n",
        "weights"
      ],
      "metadata": {
        "colab": {
          "base_uri": "https://localhost:8080/"
        },
        "id": "Bsp3gAGCPeM_",
        "outputId": "04db5bd9-40e5-40e6-e3d2-737e837954e5"
      },
      "execution_count": 14,
      "outputs": [
        {
          "output_type": "execute_result",
          "data": {
            "text/plain": [
              "array([[-0.41662174,  0.66697156, -0.5512529 ,  0.38627613, -0.03353721],\n",
              "       [ 0.43941367,  0.24070704,  0.2765937 ,  0.41934597, -0.22836792],\n",
              "       [ 0.34578347,  0.6223893 , -0.43053892,  0.43529475, -0.57674277],\n",
              "       [-0.5132443 , -0.76136243, -0.63648486,  0.14216143,  0.42769694],\n",
              "       [ 0.61897814, -0.6599261 ,  0.38676143, -0.5577708 , -0.14598554]],\n",
              "      dtype=float32)"
            ]
          },
          "metadata": {},
          "execution_count": 14
        }
      ]
    },
    {
      "cell_type": "code",
      "source": [
        "#Se obtiene el valor del umbral o el bias de las neuronas\n",
        "bias"
      ],
      "metadata": {
        "colab": {
          "base_uri": "https://localhost:8080/"
        },
        "id": "EQGN7JPTPevY",
        "outputId": "0d488290-af55-48b7-c6e4-531e4ba83491"
      },
      "execution_count": 15,
      "outputs": [
        {
          "output_type": "execute_result",
          "data": {
            "text/plain": [
              "array([0., 0., 0., 0., 0.], dtype=float32)"
            ]
          },
          "metadata": {},
          "execution_count": 15
        }
      ]
    },
    {
      "cell_type": "code",
      "source": [
        "model.compile(optimizer=tf.keras.optimizers.SGD(learning_rate=0.5),\n",
        "              loss=tf.keras.losses.binary_crossentropy,\n",
        "              metrics='accuracy')"
      ],
      "metadata": {
        "id": "QCFyHW3FSc2M"
      },
      "execution_count": 16,
      "outputs": []
    },
    {
      "cell_type": "code",
      "source": [
        "model.fit(X_gate, xor, epochs=200)"
      ],
      "metadata": {
        "colab": {
          "base_uri": "https://localhost:8080/"
        },
        "id": "h8mSSCy7TSSL",
        "outputId": "006310e1-569c-4c07-8d3c-4d14b1bf6477"
      },
      "execution_count": 17,
      "outputs": [
        {
          "output_type": "stream",
          "name": "stdout",
          "text": [
            "Epoch 1/200\n",
            "1/1 [==============================] - 5s 5s/step - loss: 0.7197 - accuracy: 0.5000\n",
            "Epoch 2/200\n",
            "1/1 [==============================] - 0s 12ms/step - loss: 0.7070 - accuracy: 0.5000\n",
            "Epoch 3/200\n",
            "1/1 [==============================] - 0s 12ms/step - loss: 0.7005 - accuracy: 0.5000\n",
            "Epoch 4/200\n",
            "1/1 [==============================] - 0s 11ms/step - loss: 0.6973 - accuracy: 0.5000\n",
            "Epoch 5/200\n",
            "1/1 [==============================] - 0s 11ms/step - loss: 0.6957 - accuracy: 0.5000\n",
            "Epoch 6/200\n",
            "1/1 [==============================] - 0s 11ms/step - loss: 0.6949 - accuracy: 0.5000\n",
            "Epoch 7/200\n",
            "1/1 [==============================] - 0s 10ms/step - loss: 0.6945 - accuracy: 0.5000\n",
            "Epoch 8/200\n",
            "1/1 [==============================] - 0s 10ms/step - loss: 0.6943 - accuracy: 0.5000\n",
            "Epoch 9/200\n",
            "1/1 [==============================] - 0s 13ms/step - loss: 0.6941 - accuracy: 0.5000\n",
            "Epoch 10/200\n",
            "1/1 [==============================] - 0s 10ms/step - loss: 0.6941 - accuracy: 0.2500\n",
            "Epoch 11/200\n",
            "1/1 [==============================] - 0s 10ms/step - loss: 0.6941 - accuracy: 0.2500\n",
            "Epoch 12/200\n",
            "1/1 [==============================] - 0s 17ms/step - loss: 0.6940 - accuracy: 0.2500\n",
            "Epoch 13/200\n",
            "1/1 [==============================] - 0s 11ms/step - loss: 0.6940 - accuracy: 0.2500\n",
            "Epoch 14/200\n",
            "1/1 [==============================] - 0s 14ms/step - loss: 0.6940 - accuracy: 0.2500\n",
            "Epoch 15/200\n",
            "1/1 [==============================] - 0s 11ms/step - loss: 0.6940 - accuracy: 0.2500\n",
            "Epoch 16/200\n",
            "1/1 [==============================] - 0s 11ms/step - loss: 0.6940 - accuracy: 0.2500\n",
            "Epoch 17/200\n",
            "1/1 [==============================] - 0s 14ms/step - loss: 0.6940 - accuracy: 0.2500\n",
            "Epoch 18/200\n",
            "1/1 [==============================] - 0s 11ms/step - loss: 0.6940 - accuracy: 0.2500\n",
            "Epoch 19/200\n",
            "1/1 [==============================] - 0s 10ms/step - loss: 0.6940 - accuracy: 0.2500\n",
            "Epoch 20/200\n",
            "1/1 [==============================] - 0s 16ms/step - loss: 0.6940 - accuracy: 0.2500\n",
            "Epoch 21/200\n",
            "1/1 [==============================] - 0s 12ms/step - loss: 0.6940 - accuracy: 0.2500\n",
            "Epoch 22/200\n",
            "1/1 [==============================] - 0s 10ms/step - loss: 0.6940 - accuracy: 0.2500\n",
            "Epoch 23/200\n",
            "1/1 [==============================] - 0s 10ms/step - loss: 0.6940 - accuracy: 0.2500\n",
            "Epoch 24/200\n",
            "1/1 [==============================] - 0s 13ms/step - loss: 0.6940 - accuracy: 0.2500\n",
            "Epoch 25/200\n",
            "1/1 [==============================] - 0s 11ms/step - loss: 0.6940 - accuracy: 0.2500\n",
            "Epoch 26/200\n",
            "1/1 [==============================] - 0s 10ms/step - loss: 0.6940 - accuracy: 0.2500\n",
            "Epoch 27/200\n",
            "1/1 [==============================] - 0s 11ms/step - loss: 0.6939 - accuracy: 0.2500\n",
            "Epoch 28/200\n",
            "1/1 [==============================] - 0s 10ms/step - loss: 0.6939 - accuracy: 0.2500\n",
            "Epoch 29/200\n",
            "1/1 [==============================] - 0s 11ms/step - loss: 0.6939 - accuracy: 0.2500\n",
            "Epoch 30/200\n",
            "1/1 [==============================] - 0s 13ms/step - loss: 0.6939 - accuracy: 0.2500\n",
            "Epoch 31/200\n",
            "1/1 [==============================] - 0s 11ms/step - loss: 0.6939 - accuracy: 0.2500\n",
            "Epoch 32/200\n",
            "1/1 [==============================] - 0s 12ms/step - loss: 0.6939 - accuracy: 0.2500\n",
            "Epoch 33/200\n",
            "1/1 [==============================] - 0s 11ms/step - loss: 0.6939 - accuracy: 0.2500\n",
            "Epoch 34/200\n",
            "1/1 [==============================] - 0s 10ms/step - loss: 0.6939 - accuracy: 0.2500\n",
            "Epoch 35/200\n",
            "1/1 [==============================] - 0s 9ms/step - loss: 0.6939 - accuracy: 0.2500\n",
            "Epoch 36/200\n",
            "1/1 [==============================] - 0s 14ms/step - loss: 0.6939 - accuracy: 0.2500\n",
            "Epoch 37/200\n",
            "1/1 [==============================] - 0s 12ms/step - loss: 0.6939 - accuracy: 0.2500\n",
            "Epoch 38/200\n",
            "1/1 [==============================] - 0s 10ms/step - loss: 0.6939 - accuracy: 0.2500\n",
            "Epoch 39/200\n",
            "1/1 [==============================] - 0s 10ms/step - loss: 0.6939 - accuracy: 0.2500\n",
            "Epoch 40/200\n",
            "1/1 [==============================] - 0s 11ms/step - loss: 0.6939 - accuracy: 0.2500\n",
            "Epoch 41/200\n",
            "1/1 [==============================] - 0s 10ms/step - loss: 0.6939 - accuracy: 0.2500\n",
            "Epoch 42/200\n",
            "1/1 [==============================] - 0s 10ms/step - loss: 0.6939 - accuracy: 0.2500\n",
            "Epoch 43/200\n",
            "1/1 [==============================] - 0s 10ms/step - loss: 0.6939 - accuracy: 0.2500\n",
            "Epoch 44/200\n",
            "1/1 [==============================] - 0s 10ms/step - loss: 0.6939 - accuracy: 0.2500\n",
            "Epoch 45/200\n",
            "1/1 [==============================] - 0s 9ms/step - loss: 0.6939 - accuracy: 0.2500\n",
            "Epoch 46/200\n",
            "1/1 [==============================] - 0s 9ms/step - loss: 0.6939 - accuracy: 0.2500\n",
            "Epoch 47/200\n",
            "1/1 [==============================] - 0s 17ms/step - loss: 0.6938 - accuracy: 0.2500\n",
            "Epoch 48/200\n",
            "1/1 [==============================] - 0s 11ms/step - loss: 0.6938 - accuracy: 0.2500\n",
            "Epoch 49/200\n",
            "1/1 [==============================] - 0s 11ms/step - loss: 0.6938 - accuracy: 0.2500\n",
            "Epoch 50/200\n",
            "1/1 [==============================] - 0s 13ms/step - loss: 0.6938 - accuracy: 0.2500\n",
            "Epoch 51/200\n",
            "1/1 [==============================] - 0s 12ms/step - loss: 0.6938 - accuracy: 0.2500\n",
            "Epoch 52/200\n",
            "1/1 [==============================] - 0s 9ms/step - loss: 0.6938 - accuracy: 0.2500\n",
            "Epoch 53/200\n",
            "1/1 [==============================] - 0s 11ms/step - loss: 0.6938 - accuracy: 0.2500\n",
            "Epoch 54/200\n",
            "1/1 [==============================] - 0s 10ms/step - loss: 0.6938 - accuracy: 0.2500\n",
            "Epoch 55/200\n",
            "1/1 [==============================] - 0s 9ms/step - loss: 0.6938 - accuracy: 0.2500\n",
            "Epoch 56/200\n",
            "1/1 [==============================] - 0s 10ms/step - loss: 0.6938 - accuracy: 0.2500\n",
            "Epoch 57/200\n",
            "1/1 [==============================] - 0s 10ms/step - loss: 0.6938 - accuracy: 0.2500\n",
            "Epoch 58/200\n",
            "1/1 [==============================] - 0s 12ms/step - loss: 0.6938 - accuracy: 0.2500\n",
            "Epoch 59/200\n",
            "1/1 [==============================] - 0s 13ms/step - loss: 0.6938 - accuracy: 0.2500\n",
            "Epoch 60/200\n",
            "1/1 [==============================] - 0s 13ms/step - loss: 0.6938 - accuracy: 0.5000\n",
            "Epoch 61/200\n",
            "1/1 [==============================] - 0s 12ms/step - loss: 0.6938 - accuracy: 0.5000\n",
            "Epoch 62/200\n",
            "1/1 [==============================] - 0s 11ms/step - loss: 0.6938 - accuracy: 0.5000\n",
            "Epoch 63/200\n",
            "1/1 [==============================] - 0s 16ms/step - loss: 0.6938 - accuracy: 0.5000\n",
            "Epoch 64/200\n",
            "1/1 [==============================] - 0s 19ms/step - loss: 0.6938 - accuracy: 0.5000\n",
            "Epoch 65/200\n",
            "1/1 [==============================] - 0s 13ms/step - loss: 0.6938 - accuracy: 0.5000\n",
            "Epoch 66/200\n",
            "1/1 [==============================] - 0s 13ms/step - loss: 0.6938 - accuracy: 0.5000\n",
            "Epoch 67/200\n",
            "1/1 [==============================] - 0s 17ms/step - loss: 0.6938 - accuracy: 0.5000\n",
            "Epoch 68/200\n",
            "1/1 [==============================] - 0s 14ms/step - loss: 0.6938 - accuracy: 0.5000\n",
            "Epoch 69/200\n",
            "1/1 [==============================] - 0s 14ms/step - loss: 0.6937 - accuracy: 0.5000\n",
            "Epoch 70/200\n",
            "1/1 [==============================] - 0s 10ms/step - loss: 0.6937 - accuracy: 0.5000\n",
            "Epoch 71/200\n",
            "1/1 [==============================] - 0s 15ms/step - loss: 0.6937 - accuracy: 0.5000\n",
            "Epoch 72/200\n",
            "1/1 [==============================] - 0s 14ms/step - loss: 0.6937 - accuracy: 0.5000\n",
            "Epoch 73/200\n",
            "1/1 [==============================] - 0s 12ms/step - loss: 0.6937 - accuracy: 0.5000\n",
            "Epoch 74/200\n",
            "1/1 [==============================] - 0s 10ms/step - loss: 0.6937 - accuracy: 0.5000\n",
            "Epoch 75/200\n",
            "1/1 [==============================] - 0s 14ms/step - loss: 0.6937 - accuracy: 0.5000\n",
            "Epoch 76/200\n",
            "1/1 [==============================] - 0s 15ms/step - loss: 0.6937 - accuracy: 0.5000\n",
            "Epoch 77/200\n",
            "1/1 [==============================] - 0s 11ms/step - loss: 0.6937 - accuracy: 0.5000\n",
            "Epoch 78/200\n",
            "1/1 [==============================] - 0s 16ms/step - loss: 0.6937 - accuracy: 0.5000\n",
            "Epoch 79/200\n",
            "1/1 [==============================] - 0s 16ms/step - loss: 0.6937 - accuracy: 0.5000\n",
            "Epoch 80/200\n",
            "1/1 [==============================] - 0s 12ms/step - loss: 0.6937 - accuracy: 0.5000\n",
            "Epoch 81/200\n",
            "1/1 [==============================] - 0s 17ms/step - loss: 0.6937 - accuracy: 0.5000\n",
            "Epoch 82/200\n",
            "1/1 [==============================] - 0s 11ms/step - loss: 0.6937 - accuracy: 0.5000\n",
            "Epoch 83/200\n",
            "1/1 [==============================] - 0s 16ms/step - loss: 0.6937 - accuracy: 0.5000\n",
            "Epoch 84/200\n",
            "1/1 [==============================] - 0s 11ms/step - loss: 0.6937 - accuracy: 0.5000\n",
            "Epoch 85/200\n",
            "1/1 [==============================] - 0s 12ms/step - loss: 0.6937 - accuracy: 0.5000\n",
            "Epoch 86/200\n",
            "1/1 [==============================] - 0s 14ms/step - loss: 0.6937 - accuracy: 0.5000\n",
            "Epoch 87/200\n",
            "1/1 [==============================] - 0s 11ms/step - loss: 0.6937 - accuracy: 0.5000\n",
            "Epoch 88/200\n",
            "1/1 [==============================] - 0s 13ms/step - loss: 0.6937 - accuracy: 0.5000\n",
            "Epoch 89/200\n",
            "1/1 [==============================] - 0s 16ms/step - loss: 0.6937 - accuracy: 0.5000\n",
            "Epoch 90/200\n",
            "1/1 [==============================] - 0s 11ms/step - loss: 0.6937 - accuracy: 0.5000\n",
            "Epoch 91/200\n",
            "1/1 [==============================] - 0s 18ms/step - loss: 0.6937 - accuracy: 0.5000\n",
            "Epoch 92/200\n",
            "1/1 [==============================] - 0s 12ms/step - loss: 0.6936 - accuracy: 0.5000\n",
            "Epoch 93/200\n",
            "1/1 [==============================] - 0s 12ms/step - loss: 0.6936 - accuracy: 0.5000\n",
            "Epoch 94/200\n",
            "1/1 [==============================] - 0s 10ms/step - loss: 0.6936 - accuracy: 0.5000\n",
            "Epoch 95/200\n",
            "1/1 [==============================] - 0s 13ms/step - loss: 0.6936 - accuracy: 0.5000\n",
            "Epoch 96/200\n",
            "1/1 [==============================] - 0s 9ms/step - loss: 0.6936 - accuracy: 0.5000\n",
            "Epoch 97/200\n",
            "1/1 [==============================] - 0s 14ms/step - loss: 0.6936 - accuracy: 0.5000\n",
            "Epoch 98/200\n",
            "1/1 [==============================] - 0s 14ms/step - loss: 0.6936 - accuracy: 0.5000\n",
            "Epoch 99/200\n",
            "1/1 [==============================] - 0s 12ms/step - loss: 0.6936 - accuracy: 0.5000\n",
            "Epoch 100/200\n",
            "1/1 [==============================] - 0s 13ms/step - loss: 0.6936 - accuracy: 0.5000\n",
            "Epoch 101/200\n",
            "1/1 [==============================] - 0s 10ms/step - loss: 0.6936 - accuracy: 0.5000\n",
            "Epoch 102/200\n",
            "1/1 [==============================] - 0s 14ms/step - loss: 0.6936 - accuracy: 0.5000\n",
            "Epoch 103/200\n",
            "1/1 [==============================] - 0s 14ms/step - loss: 0.6936 - accuracy: 0.5000\n",
            "Epoch 104/200\n",
            "1/1 [==============================] - 0s 12ms/step - loss: 0.6936 - accuracy: 0.5000\n",
            "Epoch 105/200\n",
            "1/1 [==============================] - 0s 12ms/step - loss: 0.6936 - accuracy: 0.5000\n",
            "Epoch 106/200\n",
            "1/1 [==============================] - 0s 13ms/step - loss: 0.6936 - accuracy: 0.5000\n",
            "Epoch 107/200\n",
            "1/1 [==============================] - 0s 13ms/step - loss: 0.6936 - accuracy: 0.5000\n",
            "Epoch 108/200\n",
            "1/1 [==============================] - 0s 15ms/step - loss: 0.6936 - accuracy: 0.5000\n",
            "Epoch 109/200\n",
            "1/1 [==============================] - 0s 10ms/step - loss: 0.6936 - accuracy: 0.5000\n",
            "Epoch 110/200\n",
            "1/1 [==============================] - 0s 17ms/step - loss: 0.6936 - accuracy: 0.5000\n",
            "Epoch 111/200\n",
            "1/1 [==============================] - 0s 15ms/step - loss: 0.6936 - accuracy: 0.5000\n",
            "Epoch 112/200\n",
            "1/1 [==============================] - 0s 15ms/step - loss: 0.6936 - accuracy: 0.5000\n",
            "Epoch 113/200\n",
            "1/1 [==============================] - 0s 12ms/step - loss: 0.6936 - accuracy: 0.5000\n",
            "Epoch 114/200\n",
            "1/1 [==============================] - 0s 9ms/step - loss: 0.6936 - accuracy: 0.5000\n",
            "Epoch 115/200\n",
            "1/1 [==============================] - 0s 11ms/step - loss: 0.6936 - accuracy: 0.5000\n",
            "Epoch 116/200\n",
            "1/1 [==============================] - 0s 9ms/step - loss: 0.6936 - accuracy: 0.5000\n",
            "Epoch 117/200\n",
            "1/1 [==============================] - 0s 10ms/step - loss: 0.6936 - accuracy: 0.5000\n",
            "Epoch 118/200\n",
            "1/1 [==============================] - 0s 12ms/step - loss: 0.6935 - accuracy: 0.5000\n",
            "Epoch 119/200\n",
            "1/1 [==============================] - 0s 10ms/step - loss: 0.6935 - accuracy: 0.5000\n",
            "Epoch 120/200\n",
            "1/1 [==============================] - 0s 9ms/step - loss: 0.6935 - accuracy: 0.5000\n",
            "Epoch 121/200\n",
            "1/1 [==============================] - 0s 10ms/step - loss: 0.6935 - accuracy: 0.5000\n",
            "Epoch 122/200\n",
            "1/1 [==============================] - 0s 12ms/step - loss: 0.6935 - accuracy: 0.5000\n",
            "Epoch 123/200\n",
            "1/1 [==============================] - 0s 14ms/step - loss: 0.6935 - accuracy: 0.5000\n",
            "Epoch 124/200\n",
            "1/1 [==============================] - 0s 11ms/step - loss: 0.6935 - accuracy: 0.5000\n",
            "Epoch 125/200\n",
            "1/1 [==============================] - 0s 9ms/step - loss: 0.6935 - accuracy: 0.5000\n",
            "Epoch 126/200\n",
            "1/1 [==============================] - 0s 10ms/step - loss: 0.6935 - accuracy: 0.5000\n",
            "Epoch 127/200\n",
            "1/1 [==============================] - 0s 10ms/step - loss: 0.6935 - accuracy: 0.5000\n",
            "Epoch 128/200\n",
            "1/1 [==============================] - 0s 10ms/step - loss: 0.6935 - accuracy: 0.5000\n",
            "Epoch 129/200\n",
            "1/1 [==============================] - 0s 12ms/step - loss: 0.6935 - accuracy: 0.5000\n",
            "Epoch 130/200\n",
            "1/1 [==============================] - 0s 11ms/step - loss: 0.6935 - accuracy: 0.5000\n",
            "Epoch 131/200\n",
            "1/1 [==============================] - 0s 12ms/step - loss: 0.6935 - accuracy: 0.5000\n",
            "Epoch 132/200\n",
            "1/1 [==============================] - 0s 11ms/step - loss: 0.6935 - accuracy: 0.5000\n",
            "Epoch 133/200\n",
            "1/1 [==============================] - 0s 10ms/step - loss: 0.6935 - accuracy: 0.5000\n",
            "Epoch 134/200\n",
            "1/1 [==============================] - 0s 11ms/step - loss: 0.6935 - accuracy: 0.5000\n",
            "Epoch 135/200\n",
            "1/1 [==============================] - 0s 11ms/step - loss: 0.6935 - accuracy: 0.5000\n",
            "Epoch 136/200\n",
            "1/1 [==============================] - 0s 12ms/step - loss: 0.6935 - accuracy: 0.5000\n",
            "Epoch 137/200\n",
            "1/1 [==============================] - 0s 10ms/step - loss: 0.6935 - accuracy: 0.5000\n",
            "Epoch 138/200\n",
            "1/1 [==============================] - 0s 9ms/step - loss: 0.6935 - accuracy: 0.5000\n",
            "Epoch 139/200\n",
            "1/1 [==============================] - 0s 12ms/step - loss: 0.6935 - accuracy: 0.5000\n",
            "Epoch 140/200\n",
            "1/1 [==============================] - 0s 12ms/step - loss: 0.6935 - accuracy: 0.5000\n",
            "Epoch 141/200\n",
            "1/1 [==============================] - 0s 11ms/step - loss: 0.6935 - accuracy: 0.5000\n",
            "Epoch 142/200\n",
            "1/1 [==============================] - 0s 11ms/step - loss: 0.6935 - accuracy: 0.5000\n",
            "Epoch 143/200\n",
            "1/1 [==============================] - 0s 10ms/step - loss: 0.6935 - accuracy: 0.5000\n",
            "Epoch 144/200\n",
            "1/1 [==============================] - 0s 10ms/step - loss: 0.6935 - accuracy: 0.5000\n",
            "Epoch 145/200\n",
            "1/1 [==============================] - 0s 9ms/step - loss: 0.6935 - accuracy: 0.5000\n",
            "Epoch 146/200\n",
            "1/1 [==============================] - 0s 13ms/step - loss: 0.6934 - accuracy: 0.5000\n",
            "Epoch 147/200\n",
            "1/1 [==============================] - 0s 10ms/step - loss: 0.6934 - accuracy: 0.5000\n",
            "Epoch 148/200\n",
            "1/1 [==============================] - 0s 11ms/step - loss: 0.6934 - accuracy: 0.5000\n",
            "Epoch 149/200\n",
            "1/1 [==============================] - 0s 12ms/step - loss: 0.6934 - accuracy: 0.5000\n",
            "Epoch 150/200\n",
            "1/1 [==============================] - 0s 10ms/step - loss: 0.6934 - accuracy: 0.5000\n",
            "Epoch 151/200\n",
            "1/1 [==============================] - 0s 11ms/step - loss: 0.6934 - accuracy: 0.5000\n",
            "Epoch 152/200\n",
            "1/1 [==============================] - 0s 11ms/step - loss: 0.6934 - accuracy: 0.5000\n",
            "Epoch 153/200\n",
            "1/1 [==============================] - 0s 14ms/step - loss: 0.6934 - accuracy: 0.5000\n",
            "Epoch 154/200\n",
            "1/1 [==============================] - 0s 11ms/step - loss: 0.6934 - accuracy: 0.5000\n",
            "Epoch 155/200\n",
            "1/1 [==============================] - 0s 15ms/step - loss: 0.6934 - accuracy: 0.5000\n",
            "Epoch 156/200\n",
            "1/1 [==============================] - 0s 15ms/step - loss: 0.6934 - accuracy: 0.5000\n",
            "Epoch 157/200\n",
            "1/1 [==============================] - 0s 12ms/step - loss: 0.6934 - accuracy: 0.5000\n",
            "Epoch 158/200\n",
            "1/1 [==============================] - 0s 12ms/step - loss: 0.6934 - accuracy: 0.5000\n",
            "Epoch 159/200\n",
            "1/1 [==============================] - 0s 12ms/step - loss: 0.6934 - accuracy: 0.5000\n",
            "Epoch 160/200\n",
            "1/1 [==============================] - 0s 11ms/step - loss: 0.6934 - accuracy: 0.5000\n",
            "Epoch 161/200\n",
            "1/1 [==============================] - 0s 11ms/step - loss: 0.6934 - accuracy: 0.5000\n",
            "Epoch 162/200\n",
            "1/1 [==============================] - 0s 9ms/step - loss: 0.6934 - accuracy: 0.5000\n",
            "Epoch 163/200\n",
            "1/1 [==============================] - 0s 12ms/step - loss: 0.6934 - accuracy: 0.5000\n",
            "Epoch 164/200\n",
            "1/1 [==============================] - 0s 13ms/step - loss: 0.6934 - accuracy: 0.5000\n",
            "Epoch 165/200\n",
            "1/1 [==============================] - 0s 13ms/step - loss: 0.6934 - accuracy: 0.5000\n",
            "Epoch 166/200\n",
            "1/1 [==============================] - 0s 12ms/step - loss: 0.6934 - accuracy: 0.5000\n",
            "Epoch 167/200\n",
            "1/1 [==============================] - 0s 12ms/step - loss: 0.6934 - accuracy: 0.5000\n",
            "Epoch 168/200\n",
            "1/1 [==============================] - 0s 12ms/step - loss: 0.6934 - accuracy: 0.5000\n",
            "Epoch 169/200\n",
            "1/1 [==============================] - 0s 11ms/step - loss: 0.6934 - accuracy: 0.5000\n",
            "Epoch 170/200\n",
            "1/1 [==============================] - 0s 12ms/step - loss: 0.6934 - accuracy: 0.5000\n",
            "Epoch 171/200\n",
            "1/1 [==============================] - 0s 16ms/step - loss: 0.6934 - accuracy: 0.5000\n",
            "Epoch 172/200\n",
            "1/1 [==============================] - 0s 13ms/step - loss: 0.6934 - accuracy: 0.5000\n",
            "Epoch 173/200\n",
            "1/1 [==============================] - 0s 12ms/step - loss: 0.6934 - accuracy: 0.5000\n",
            "Epoch 174/200\n",
            "1/1 [==============================] - 0s 10ms/step - loss: 0.6934 - accuracy: 0.5000\n",
            "Epoch 175/200\n",
            "1/1 [==============================] - 0s 12ms/step - loss: 0.6934 - accuracy: 0.5000\n",
            "Epoch 176/200\n",
            "1/1 [==============================] - 0s 12ms/step - loss: 0.6933 - accuracy: 0.5000\n",
            "Epoch 177/200\n",
            "1/1 [==============================] - 0s 10ms/step - loss: 0.6933 - accuracy: 0.5000\n",
            "Epoch 178/200\n",
            "1/1 [==============================] - 0s 10ms/step - loss: 0.6933 - accuracy: 0.5000\n",
            "Epoch 179/200\n",
            "1/1 [==============================] - 0s 11ms/step - loss: 0.6933 - accuracy: 0.5000\n",
            "Epoch 180/200\n",
            "1/1 [==============================] - 0s 11ms/step - loss: 0.6933 - accuracy: 0.5000\n",
            "Epoch 181/200\n",
            "1/1 [==============================] - 0s 12ms/step - loss: 0.6933 - accuracy: 0.5000\n",
            "Epoch 182/200\n",
            "1/1 [==============================] - 0s 9ms/step - loss: 0.6933 - accuracy: 0.5000\n",
            "Epoch 183/200\n",
            "1/1 [==============================] - 0s 11ms/step - loss: 0.6933 - accuracy: 0.5000\n",
            "Epoch 184/200\n",
            "1/1 [==============================] - 0s 9ms/step - loss: 0.6933 - accuracy: 0.5000\n",
            "Epoch 185/200\n",
            "1/1 [==============================] - 0s 11ms/step - loss: 0.6933 - accuracy: 0.5000\n",
            "Epoch 186/200\n",
            "1/1 [==============================] - 0s 10ms/step - loss: 0.6933 - accuracy: 0.5000\n",
            "Epoch 187/200\n",
            "1/1 [==============================] - 0s 14ms/step - loss: 0.6933 - accuracy: 0.5000\n",
            "Epoch 188/200\n",
            "1/1 [==============================] - 0s 12ms/step - loss: 0.6933 - accuracy: 0.5000\n",
            "Epoch 189/200\n",
            "1/1 [==============================] - 0s 11ms/step - loss: 0.6933 - accuracy: 0.5000\n",
            "Epoch 190/200\n",
            "1/1 [==============================] - 0s 13ms/step - loss: 0.6933 - accuracy: 0.5000\n",
            "Epoch 191/200\n",
            "1/1 [==============================] - 0s 10ms/step - loss: 0.6933 - accuracy: 0.5000\n",
            "Epoch 192/200\n",
            "1/1 [==============================] - 0s 10ms/step - loss: 0.6933 - accuracy: 0.5000\n",
            "Epoch 193/200\n",
            "1/1 [==============================] - 0s 12ms/step - loss: 0.6933 - accuracy: 0.5000\n",
            "Epoch 194/200\n",
            "1/1 [==============================] - 0s 10ms/step - loss: 0.6933 - accuracy: 0.5000\n",
            "Epoch 195/200\n",
            "1/1 [==============================] - 0s 11ms/step - loss: 0.6933 - accuracy: 0.5000\n",
            "Epoch 196/200\n",
            "1/1 [==============================] - 0s 15ms/step - loss: 0.6933 - accuracy: 0.5000\n",
            "Epoch 197/200\n",
            "1/1 [==============================] - 0s 11ms/step - loss: 0.6933 - accuracy: 0.5000\n",
            "Epoch 198/200\n",
            "1/1 [==============================] - 0s 10ms/step - loss: 0.6933 - accuracy: 0.5000\n",
            "Epoch 199/200\n",
            "1/1 [==============================] - 0s 12ms/step - loss: 0.6933 - accuracy: 0.5000\n",
            "Epoch 200/200\n",
            "1/1 [==============================] - 0s 12ms/step - loss: 0.6933 - accuracy: 0.5000\n"
          ]
        },
        {
          "output_type": "execute_result",
          "data": {
            "text/plain": [
              "<keras.callbacks.History at 0x7efd91612d70>"
            ]
          },
          "metadata": {},
          "execution_count": 17
        }
      ]
    },
    {
      "cell_type": "code",
      "source": [
        "#Revisamos los valores de los pesos\n",
        "model.get_weights()"
      ],
      "metadata": {
        "colab": {
          "base_uri": "https://localhost:8080/"
        },
        "id": "sumPStqaeedO",
        "outputId": "940a8e90-7f1a-42cf-a4e3-4c50481716d0"
      },
      "execution_count": 18,
      "outputs": [
        {
          "output_type": "execute_result",
          "data": {
            "text/plain": [
              "[array([[ 0.8042115 , -0.84443706, -0.30977905, -0.868341  , -0.6478922 ],\n",
              "        [-0.0103424 , -0.773547  , -0.08308011,  0.21232487, -0.8135985 ]],\n",
              "       dtype=float32),\n",
              " array([-0.00118125,  0.02656887,  0.00702949,  0.00209128,  0.01143929],\n",
              "       dtype=float32),\n",
              " array([[-0.42145133,  0.6494217 , -0.54286826,  0.40160632, -0.06275446],\n",
              "        [ 0.44904864,  0.2967242 ,  0.24452436,  0.35456663, -0.12756869],\n",
              "        [ 0.34244558,  0.61317766, -0.43020865,  0.44101727, -0.597925  ],\n",
              "        [-0.5179905 , -0.7786853 , -0.63496035,  0.15465346,  0.39019367],\n",
              "        [ 0.6254068 , -0.6193579 ,  0.36317772, -0.6044768 , -0.07623559]],\n",
              "       dtype=float32),\n",
              " array([-0.00789804, -0.02577907,  0.00620202,  0.01894454, -0.05043846],\n",
              "       dtype=float32),\n",
              " array([[-0.1444549 ],\n",
              "        [-0.32711858],\n",
              "        [ 0.14706902],\n",
              "        [ 0.43898934],\n",
              "        [-0.6869813 ]], dtype=float32),\n",
              " array([0.23109606], dtype=float32)]"
            ]
          },
          "metadata": {},
          "execution_count": 18
        }
      ]
    },
    {
      "cell_type": "code",
      "source": [
        "#Obtenemos los pesos y los bias de la primera capa, despues de la tener la red\n",
        "#entrenada\n",
        "weights, bias = model.layers[0].get_weights()"
      ],
      "metadata": {
        "id": "tskHYo6ZYFhb"
      },
      "execution_count": 20,
      "outputs": []
    },
    {
      "cell_type": "code",
      "source": [
        "weights"
      ],
      "metadata": {
        "colab": {
          "base_uri": "https://localhost:8080/"
        },
        "id": "WP8NCdvsYbaW",
        "outputId": "52754d35-0b34-4e12-c712-0fbef738ac1d"
      },
      "execution_count": 21,
      "outputs": [
        {
          "output_type": "execute_result",
          "data": {
            "text/plain": [
              "array([[ 0.8042115 , -0.84443706, -0.30977905, -0.868341  , -0.6478922 ],\n",
              "       [-0.0103424 , -0.773547  , -0.08308011,  0.21232487, -0.8135985 ]],\n",
              "      dtype=float32)"
            ]
          },
          "metadata": {},
          "execution_count": 21
        }
      ]
    },
    {
      "cell_type": "code",
      "source": [
        "bias"
      ],
      "metadata": {
        "colab": {
          "base_uri": "https://localhost:8080/"
        },
        "id": "hoQR2ebFYeHI",
        "outputId": "c3cdf355-0018-478a-daf7-64fb6efe4324"
      },
      "execution_count": 22,
      "outputs": [
        {
          "output_type": "execute_result",
          "data": {
            "text/plain": [
              "array([-0.00118125,  0.02656887,  0.00702949,  0.00209128,  0.01143929],\n",
              "      dtype=float32)"
            ]
          },
          "metadata": {},
          "execution_count": 22
        }
      ]
    },
    {
      "cell_type": "code",
      "source": [
        "#Una función para la función de activación sigmoide\n",
        "def sigmoid(z):\n",
        "  return 1 / (1 + np.exp(-z))"
      ],
      "metadata": {
        "id": "94cLzPvbeEMa"
      },
      "execution_count": 23,
      "outputs": []
    },
    {
      "cell_type": "code",
      "source": [
        "#Función para visualizar los resultados\n",
        "def plot_line(layer, X_gate):\n",
        "  weights, bias = layer.get_weights()\n",
        "  n_neurons = weights.shape[1]\n",
        "  X = np.array([-0.2, 1.2])\n",
        "  fig, axes = plt.subplots(1, n_neurons, figsize=(8 * n_neurons, 6))\n",
        "  def predictions(X, weights, bias):\n",
        "    z = X_gate.dot(weights) + bias\n",
        "    return np.round(sigmoid(z), 0)\n",
        "  for i in range(n_neurons):\n",
        "    x_2 = (-weights[0, i] * X - bias[i]) / weights[1, i]\n",
        "\n",
        "    y = predictions(X_gate, weights[:, i],  bias[i] )\n",
        "    if type(axes) == np.ndarray:\n",
        "      axes[i].scatter(X_gate[:,0], X_gate[:,1],\n",
        "                      c=y,\n",
        "                      s=300,\n",
        "                      cmap=plt.cm.coolwarm,\n",
        "                      alpha=0.8)\n",
        "      axes[i].grid()\n",
        "      axes[i].plot(X, x_2, color='dimgray', linewidth=4)\n",
        "      axes[i].set_xlim([-0.1, 1.1])\n",
        "      axes[i].set_ylim([-0.1, 1.1])\n",
        "      axes[i].set_title(f'N{i}: {y}')\n",
        "    else:\n",
        "      axes.scatter(X_gate[:,0], X_gate[:,1],\n",
        "                   c=y,\n",
        "                   s=300,\n",
        "                   cmap=plt.cm.coolwarm,\n",
        "                   edgecolor='black',\n",
        "                   alpha=0.8)\n",
        "      axes.grid()\n",
        "      axes.plot(X, x_2, color='dimgray', linewidth=4)\n",
        "      axes.set_xlim([-0.1, 1.1])\n",
        "      axes.set_ylim([-0.1, 1.1])\n",
        "      axes.set_title(f'N{i}: {y}')"
      ],
      "metadata": {
        "id": "_6Jmver3Yuwv"
      },
      "execution_count": 24,
      "outputs": []
    },
    {
      "cell_type": "code",
      "source": [
        "layer_1=model.layers[0]\n",
        "weights_1, bias_1 = layer_1.get_weights()\n",
        "n_neurons_1 = weights_1.shape[1]\n",
        "print(weights_1)\n",
        "print('--------------')\n",
        "print(bias_1)\n",
        "print('--------------')\n",
        "print(n_neurons_1)\n",
        "print('--------------')\n",
        "\n"
      ],
      "metadata": {
        "colab": {
          "base_uri": "https://localhost:8080/"
        },
        "id": "hAHYuodd11_A",
        "outputId": "4774b380-9b7a-40a7-c6e1-ec2c9cd25bb7"
      },
      "execution_count": 34,
      "outputs": [
        {
          "output_type": "stream",
          "name": "stdout",
          "text": [
            "[[ 0.8042115  -0.84443706 -0.30977905 -0.868341   -0.6478922 ]\n",
            " [-0.0103424  -0.773547   -0.08308011  0.21232487 -0.8135985 ]]\n",
            "--------------\n",
            "[-0.00118125  0.02656887  0.00702949  0.00209128  0.01143929]\n",
            "--------------\n",
            "5\n",
            "--------------\n"
          ]
        }
      ]
    },
    {
      "cell_type": "code",
      "source": [
        "plot_line(model.layers[0], X_gate)"
      ],
      "metadata": {
        "colab": {
          "base_uri": "https://localhost:8080/",
          "height": 215
        },
        "id": "S5jojEbKs57K",
        "outputId": "dd94d1b2-0bd2-4172-af6b-4807726be9e6"
      },
      "execution_count": 25,
      "outputs": [
        {
          "output_type": "display_data",
          "data": {
            "text/plain": [
              "<Figure size 4000x600 with 5 Axes>"
            ],
            "image/png": "[encoded data removed]"
          },
          "metadata": {}
        }
      ]
    },
    {
      "cell_type": "code",
      "source": [
        "layer_2=model.layers[1]\n",
        "weights_2, bias_2 = layer_2.get_weights()\n",
        "n_neurons_2 = weights_1.shape[1]\n",
        "print(weights_2)\n",
        "print('--------------')\n",
        "print(bias_2)\n",
        "print('--------------')\n",
        "print(n_neurons_2)\n",
        "print('--------------')\n"
      ],
      "metadata": {
        "colab": {
          "base_uri": "https://localhost:8080/"
        },
        "id": "v35qqIjf1lfK",
        "outputId": "055f26c5-4b5a-4ae1-81cb-5c360d194b00"
      },
      "execution_count": 36,
      "outputs": [
        {
          "output_type": "stream",
          "name": "stdout",
          "text": [
            "[[-0.42145133  0.6494217  -0.54286826  0.40160632 -0.06275446]\n",
            " [ 0.44904864  0.2967242   0.24452436  0.35456663 -0.12756869]\n",
            " [ 0.34244558  0.61317766 -0.43020865  0.44101727 -0.597925  ]\n",
            " [-0.5179905  -0.7786853  -0.63496035  0.15465346  0.39019367]\n",
            " [ 0.6254068  -0.6193579   0.36317772 -0.6044768  -0.07623559]]\n",
            "--------------\n",
            "[-0.00789804 -0.02577907  0.00620202  0.01894454 -0.05043846]\n",
            "--------------\n",
            "5\n",
            "--------------\n"
          ]
        }
      ]
    },
    {
      "cell_type": "code",
      "source": [
        "#plot_line(model.layers[1], X_gate)"
      ],
      "metadata": {
        "id": "emQSS66Wscew"
      },
      "execution_count": 38,
      "outputs": []
    },
    {
      "cell_type": "code",
      "source": [
        "#Se hace la predicción del modelo\n",
        "np.round(model.predict(X_gate), 0)"
      ],
      "metadata": {
        "colab": {
          "base_uri": "https://localhost:8080/"
        },
        "id": "MHZ9bZyvj8p0",
        "outputId": "f8c27b06-0000-42f5-8024-7e90458a0bee"
      },
      "execution_count": 39,
      "outputs": [
        {
          "output_type": "stream",
          "name": "stdout",
          "text": [
            "1/1 [==============================] - 0s 83ms/step\n"
          ]
        },
        {
          "output_type": "execute_result",
          "data": {
            "text/plain": [
              "array([[0.],\n",
              "       [0.],\n",
              "       [1.],\n",
              "       [1.]], dtype=float32)"
            ]
          },
          "metadata": {},
          "execution_count": 39
        }
      ]
    },
    {
      "cell_type": "markdown",
      "source": [
        "# __OR__"
      ],
      "metadata": {
        "id": "3YE5pmRN6aXR"
      }
    },
    {
      "cell_type": "code",
      "source": [
        "model.fit(X_gate, or_, epochs=200)\n",
        "plot_line(model.layers[0], X_gate)"
      ],
      "metadata": {
        "id": "qTpbInrP6cp3"
      },
      "execution_count": null,
      "outputs": []
    },
    {
      "cell_type": "markdown",
      "source": [
        "# __AND__"
      ],
      "metadata": {
        "id": "th0olBkL7FKE"
      }
    },
    {
      "cell_type": "code",
      "source": [
        "model.fit(X_gate, and_, epochs=200)\n",
        "plot_line(model.layers[0], X_gate)"
      ],
      "metadata": {
        "id": "S_zQX1qK66c5"
      },
      "execution_count": null,
      "outputs": []
    },
    {
      "cell_type": "markdown",
      "source": [
        "# __NAND__"
      ],
      "metadata": {
        "id": "ZTsv5hTW7Unp"
      }
    },
    {
      "cell_type": "code",
      "source": [
        "model.fit(X_gate, nand_, epochs=200)\n",
        "plot_line(model.layers[0], X_gate)"
      ],
      "metadata": {
        "colab": {
          "base_uri": "https://localhost:8080/",
          "height": 1000
        },
        "id": "H7RICH647ZS3",
        "outputId": "37252a03-3d85-4a59-c547-90daf9f9d205"
      },
      "execution_count": 48,
      "outputs": [
        {
          "output_type": "stream",
          "name": "stdout",
          "text": [
            "Epoch 1/200\n",
            "1/1 [==============================] - 0s 17ms/step - loss: 4.2181 - accuracy: 0.0000e+00\n",
            "Epoch 2/200\n",
            "1/1 [==============================] - 0s 18ms/step - loss: 3.2623 - accuracy: 0.0000e+00\n",
            "Epoch 3/200\n",
            "1/1 [==============================] - 0s 18ms/step - loss: 2.5176 - accuracy: 0.5000\n",
            "Epoch 4/200\n",
            "1/1 [==============================] - 0s 16ms/step - loss: 2.3403 - accuracy: 0.5000\n",
            "Epoch 5/200\n",
            "1/1 [==============================] - 0s 16ms/step - loss: 2.2197 - accuracy: 0.5000\n",
            "Epoch 6/200\n",
            "1/1 [==============================] - 0s 15ms/step - loss: 2.1106 - accuracy: 0.5000\n",
            "Epoch 7/200\n",
            "1/1 [==============================] - 0s 15ms/step - loss: 2.0072 - accuracy: 0.5000\n",
            "Epoch 8/200\n",
            "1/1 [==============================] - 0s 15ms/step - loss: 1.9080 - accuracy: 0.5000\n",
            "Epoch 9/200\n",
            "1/1 [==============================] - 0s 12ms/step - loss: 1.8126 - accuracy: 0.5000\n",
            "Epoch 10/200\n",
            "1/1 [==============================] - 0s 11ms/step - loss: 1.7211 - accuracy: 0.5000\n",
            "Epoch 11/200\n",
            "1/1 [==============================] - 0s 11ms/step - loss: 1.6338 - accuracy: 0.5000\n",
            "Epoch 12/200\n",
            "1/1 [==============================] - 0s 10ms/step - loss: 1.5511 - accuracy: 0.5000\n",
            "Epoch 13/200\n",
            "1/1 [==============================] - 0s 11ms/step - loss: 1.4732 - accuracy: 0.5000\n",
            "Epoch 14/200\n",
            "1/1 [==============================] - 0s 13ms/step - loss: 1.4003 - accuracy: 0.5000\n",
            "Epoch 15/200\n",
            "1/1 [==============================] - 0s 13ms/step - loss: 1.3321 - accuracy: 0.5000\n",
            "Epoch 16/200\n",
            "1/1 [==============================] - 0s 10ms/step - loss: 1.2683 - accuracy: 0.5000\n",
            "Epoch 17/200\n",
            "1/1 [==============================] - 0s 10ms/step - loss: 1.2086 - accuracy: 0.5000\n",
            "Epoch 18/200\n",
            "1/1 [==============================] - 0s 11ms/step - loss: 1.1527 - accuracy: 0.7500\n",
            "Epoch 19/200\n",
            "1/1 [==============================] - 0s 11ms/step - loss: 1.1004 - accuracy: 0.7500\n",
            "Epoch 20/200\n",
            "1/1 [==============================] - 0s 10ms/step - loss: 1.0517 - accuracy: 0.7500\n",
            "Epoch 21/200\n",
            "1/1 [==============================] - 0s 11ms/step - loss: 1.0063 - accuracy: 0.7500\n",
            "Epoch 22/200\n",
            "1/1 [==============================] - 0s 10ms/step - loss: 0.9645 - accuracy: 0.7500\n",
            "Epoch 23/200\n",
            "1/1 [==============================] - 0s 15ms/step - loss: 0.9262 - accuracy: 0.7500\n",
            "Epoch 24/200\n",
            "1/1 [==============================] - 0s 13ms/step - loss: 0.8913 - accuracy: 0.7500\n",
            "Epoch 25/200\n",
            "1/1 [==============================] - 0s 14ms/step - loss: 0.8599 - accuracy: 0.7500\n",
            "Epoch 26/200\n",
            "1/1 [==============================] - 0s 12ms/step - loss: 0.8318 - accuracy: 0.7500\n",
            "Epoch 27/200\n",
            "1/1 [==============================] - 0s 11ms/step - loss: 0.8068 - accuracy: 0.7500\n",
            "Epoch 28/200\n",
            "1/1 [==============================] - 0s 10ms/step - loss: 0.7846 - accuracy: 0.7500\n",
            "Epoch 29/200\n",
            "1/1 [==============================] - 0s 11ms/step - loss: 0.7651 - accuracy: 0.7500\n",
            "Epoch 30/200\n",
            "1/1 [==============================] - 0s 13ms/step - loss: 0.7479 - accuracy: 0.7500\n",
            "Epoch 31/200\n",
            "1/1 [==============================] - 0s 10ms/step - loss: 0.7328 - accuracy: 0.7500\n",
            "Epoch 32/200\n",
            "1/1 [==============================] - 0s 11ms/step - loss: 0.7195 - accuracy: 0.7500\n",
            "Epoch 33/200\n",
            "1/1 [==============================] - 0s 11ms/step - loss: 0.7078 - accuracy: 0.7500\n",
            "Epoch 34/200\n",
            "1/1 [==============================] - 0s 11ms/step - loss: 0.6974 - accuracy: 0.7500\n",
            "Epoch 35/200\n",
            "1/1 [==============================] - 0s 11ms/step - loss: 0.6882 - accuracy: 0.7500\n",
            "Epoch 36/200\n",
            "1/1 [==============================] - 0s 16ms/step - loss: 0.6800 - accuracy: 0.7500\n",
            "Epoch 37/200\n",
            "1/1 [==============================] - 0s 15ms/step - loss: 0.6727 - accuracy: 0.7500\n",
            "Epoch 38/200\n",
            "1/1 [==============================] - 0s 11ms/step - loss: 0.6661 - accuracy: 0.7500\n",
            "Epoch 39/200\n",
            "1/1 [==============================] - 0s 10ms/step - loss: 0.6601 - accuracy: 0.7500\n",
            "Epoch 40/200\n",
            "1/1 [==============================] - 0s 10ms/step - loss: 0.6547 - accuracy: 0.7500\n",
            "Epoch 41/200\n",
            "1/1 [==============================] - 0s 10ms/step - loss: 0.6498 - accuracy: 0.7500\n",
            "Epoch 42/200\n",
            "1/1 [==============================] - 0s 10ms/step - loss: 0.6454 - accuracy: 0.7500\n",
            "Epoch 43/200\n",
            "1/1 [==============================] - 0s 10ms/step - loss: 0.6413 - accuracy: 0.7500\n",
            "Epoch 44/200\n",
            "1/1 [==============================] - 0s 14ms/step - loss: 0.6375 - accuracy: 0.7500\n",
            "Epoch 45/200\n",
            "1/1 [==============================] - 0s 12ms/step - loss: 0.6341 - accuracy: 0.7500\n",
            "Epoch 46/200\n",
            "1/1 [==============================] - 0s 13ms/step - loss: 0.6309 - accuracy: 0.7500\n",
            "Epoch 47/200\n",
            "1/1 [==============================] - 0s 12ms/step - loss: 0.6279 - accuracy: 0.7500\n",
            "Epoch 48/200\n",
            "1/1 [==============================] - 0s 13ms/step - loss: 0.6251 - accuracy: 0.7500\n",
            "Epoch 49/200\n",
            "1/1 [==============================] - 0s 11ms/step - loss: 0.6226 - accuracy: 0.7500\n",
            "Epoch 50/200\n",
            "1/1 [==============================] - 0s 13ms/step - loss: 0.6202 - accuracy: 0.7500\n",
            "Epoch 51/200\n",
            "1/1 [==============================] - 0s 13ms/step - loss: 0.6180 - accuracy: 0.7500\n",
            "Epoch 52/200\n",
            "1/1 [==============================] - 0s 15ms/step - loss: 0.6159 - accuracy: 0.7500\n",
            "Epoch 53/200\n",
            "1/1 [==============================] - 0s 10ms/step - loss: 0.6139 - accuracy: 0.7500\n",
            "Epoch 54/200\n",
            "1/1 [==============================] - 0s 12ms/step - loss: 0.6120 - accuracy: 0.7500\n",
            "Epoch 55/200\n",
            "1/1 [==============================] - 0s 14ms/step - loss: 0.6103 - accuracy: 0.7500\n",
            "Epoch 56/200\n",
            "1/1 [==============================] - 0s 11ms/step - loss: 0.6087 - accuracy: 0.7500\n",
            "Epoch 57/200\n",
            "1/1 [==============================] - 0s 13ms/step - loss: 0.6071 - accuracy: 0.7500\n",
            "Epoch 58/200\n",
            "1/1 [==============================] - 0s 11ms/step - loss: 0.6056 - accuracy: 0.7500\n",
            "Epoch 59/200\n",
            "1/1 [==============================] - 0s 13ms/step - loss: 0.6042 - accuracy: 0.7500\n",
            "Epoch 60/200\n",
            "1/1 [==============================] - 0s 12ms/step - loss: 0.6029 - accuracy: 0.7500\n",
            "Epoch 61/200\n",
            "1/1 [==============================] - 0s 12ms/step - loss: 0.6016 - accuracy: 0.7500\n",
            "Epoch 62/200\n",
            "1/1 [==============================] - 0s 13ms/step - loss: 0.6004 - accuracy: 0.7500\n",
            "Epoch 63/200\n",
            "1/1 [==============================] - 0s 11ms/step - loss: 0.5993 - accuracy: 0.7500\n",
            "Epoch 64/200\n",
            "1/1 [==============================] - 0s 12ms/step - loss: 0.5982 - accuracy: 0.7500\n",
            "Epoch 65/200\n",
            "1/1 [==============================] - 0s 14ms/step - loss: 0.5972 - accuracy: 0.7500\n",
            "Epoch 66/200\n",
            "1/1 [==============================] - 0s 13ms/step - loss: 0.5962 - accuracy: 0.7500\n",
            "Epoch 67/200\n",
            "1/1 [==============================] - 0s 16ms/step - loss: 0.5952 - accuracy: 0.7500\n",
            "Epoch 68/200\n",
            "1/1 [==============================] - 0s 12ms/step - loss: 0.5943 - accuracy: 0.7500\n",
            "Epoch 69/200\n",
            "1/1 [==============================] - 0s 12ms/step - loss: 0.5934 - accuracy: 0.7500\n",
            "Epoch 70/200\n",
            "1/1 [==============================] - 0s 12ms/step - loss: 0.5926 - accuracy: 0.7500\n",
            "Epoch 71/200\n",
            "1/1 [==============================] - 0s 18ms/step - loss: 0.5918 - accuracy: 0.7500\n",
            "Epoch 72/200\n",
            "1/1 [==============================] - 0s 31ms/step - loss: 0.5910 - accuracy: 0.7500\n",
            "Epoch 73/200\n",
            "1/1 [==============================] - 0s 15ms/step - loss: 0.5902 - accuracy: 0.7500\n",
            "Epoch 74/200\n",
            "1/1 [==============================] - 0s 11ms/step - loss: 0.5895 - accuracy: 0.7500\n",
            "Epoch 75/200\n",
            "1/1 [==============================] - 0s 20ms/step - loss: 0.5888 - accuracy: 0.7500\n",
            "Epoch 76/200\n",
            "1/1 [==============================] - 0s 11ms/step - loss: 0.5881 - accuracy: 0.7500\n",
            "Epoch 77/200\n",
            "1/1 [==============================] - 0s 10ms/step - loss: 0.5875 - accuracy: 0.7500\n",
            "Epoch 78/200\n",
            "1/1 [==============================] - 0s 11ms/step - loss: 0.5868 - accuracy: 0.7500\n",
            "Epoch 79/200\n",
            "1/1 [==============================] - 0s 12ms/step - loss: 0.5862 - accuracy: 0.7500\n",
            "Epoch 80/200\n",
            "1/1 [==============================] - 0s 9ms/step - loss: 0.5856 - accuracy: 0.7500\n",
            "Epoch 81/200\n",
            "1/1 [==============================] - 0s 12ms/step - loss: 0.5850 - accuracy: 0.7500\n",
            "Epoch 82/200\n",
            "1/1 [==============================] - 0s 13ms/step - loss: 0.5845 - accuracy: 0.7500\n",
            "Epoch 83/200\n",
            "1/1 [==============================] - 0s 9ms/step - loss: 0.5839 - accuracy: 0.7500\n",
            "Epoch 84/200\n",
            "1/1 [==============================] - 0s 10ms/step - loss: 0.5834 - accuracy: 0.7500\n",
            "Epoch 85/200\n",
            "1/1 [==============================] - 0s 11ms/step - loss: 0.5829 - accuracy: 0.7500\n",
            "Epoch 86/200\n",
            "1/1 [==============================] - 0s 13ms/step - loss: 0.5824 - accuracy: 0.7500\n",
            "Epoch 87/200\n",
            "1/1 [==============================] - 0s 10ms/step - loss: 0.5819 - accuracy: 0.7500\n",
            "Epoch 88/200\n",
            "1/1 [==============================] - 0s 11ms/step - loss: 0.5814 - accuracy: 0.7500\n",
            "Epoch 89/200\n",
            "1/1 [==============================] - 0s 10ms/step - loss: 0.5810 - accuracy: 0.7500\n",
            "Epoch 90/200\n",
            "1/1 [==============================] - 0s 10ms/step - loss: 0.5805 - accuracy: 0.7500\n",
            "Epoch 91/200\n",
            "1/1 [==============================] - 0s 12ms/step - loss: 0.5801 - accuracy: 0.7500\n",
            "Epoch 92/200\n",
            "1/1 [==============================] - 0s 10ms/step - loss: 0.5797 - accuracy: 0.7500\n",
            "Epoch 93/200\n",
            "1/1 [==============================] - 0s 10ms/step - loss: 0.5793 - accuracy: 0.7500\n",
            "Epoch 94/200\n",
            "1/1 [==============================] - 0s 9ms/step - loss: 0.5788 - accuracy: 0.7500\n",
            "Epoch 95/200\n",
            "1/1 [==============================] - 0s 9ms/step - loss: 0.5784 - accuracy: 0.7500\n",
            "Epoch 96/200\n",
            "1/1 [==============================] - 0s 11ms/step - loss: 0.5780 - accuracy: 0.7500\n",
            "Epoch 97/200\n",
            "1/1 [==============================] - 0s 11ms/step - loss: 0.5777 - accuracy: 0.7500\n",
            "Epoch 98/200\n",
            "1/1 [==============================] - 0s 12ms/step - loss: 0.5773 - accuracy: 0.7500\n",
            "Epoch 99/200\n",
            "1/1 [==============================] - 0s 12ms/step - loss: 0.5769 - accuracy: 0.7500\n",
            "Epoch 100/200\n",
            "1/1 [==============================] - 0s 10ms/step - loss: 0.5766 - accuracy: 0.7500\n",
            "Epoch 101/200\n",
            "1/1 [==============================] - 0s 10ms/step - loss: 0.5762 - accuracy: 0.7500\n",
            "Epoch 102/200\n",
            "1/1 [==============================] - 0s 10ms/step - loss: 0.5759 - accuracy: 0.7500\n",
            "Epoch 103/200\n",
            "1/1 [==============================] - 0s 11ms/step - loss: 0.5755 - accuracy: 0.7500\n",
            "Epoch 104/200\n",
            "1/1 [==============================] - 0s 11ms/step - loss: 0.5752 - accuracy: 0.7500\n",
            "Epoch 105/200\n",
            "1/1 [==============================] - 0s 10ms/step - loss: 0.5748 - accuracy: 0.7500\n",
            "Epoch 106/200\n",
            "1/1 [==============================] - 0s 10ms/step - loss: 0.5745 - accuracy: 0.7500\n",
            "Epoch 107/200\n",
            "1/1 [==============================] - 0s 9ms/step - loss: 0.5742 - accuracy: 0.7500\n",
            "Epoch 108/200\n",
            "1/1 [==============================] - 0s 10ms/step - loss: 0.5739 - accuracy: 0.7500\n",
            "Epoch 109/200\n",
            "1/1 [==============================] - 0s 10ms/step - loss: 0.5736 - accuracy: 0.7500\n",
            "Epoch 110/200\n",
            "1/1 [==============================] - 0s 8ms/step - loss: 0.5732 - accuracy: 0.7500\n",
            "Epoch 111/200\n",
            "1/1 [==============================] - 0s 11ms/step - loss: 0.5729 - accuracy: 0.7500\n",
            "Epoch 112/200\n",
            "1/1 [==============================] - 0s 10ms/step - loss: 0.5726 - accuracy: 0.7500\n",
            "Epoch 113/200\n",
            "1/1 [==============================] - 0s 11ms/step - loss: 0.5723 - accuracy: 0.7500\n",
            "Epoch 114/200\n",
            "1/1 [==============================] - 0s 10ms/step - loss: 0.5720 - accuracy: 0.7500\n",
            "Epoch 115/200\n",
            "1/1 [==============================] - 0s 9ms/step - loss: 0.5717 - accuracy: 0.7500\n",
            "Epoch 116/200\n",
            "1/1 [==============================] - 0s 11ms/step - loss: 0.5715 - accuracy: 0.7500\n",
            "Epoch 117/200\n",
            "1/1 [==============================] - 0s 11ms/step - loss: 0.5712 - accuracy: 0.7500\n",
            "Epoch 118/200\n",
            "1/1 [==============================] - 0s 10ms/step - loss: 0.5709 - accuracy: 0.7500\n",
            "Epoch 119/200\n",
            "1/1 [==============================] - 0s 10ms/step - loss: 0.5706 - accuracy: 0.7500\n",
            "Epoch 120/200\n",
            "1/1 [==============================] - 0s 12ms/step - loss: 0.5703 - accuracy: 0.7500\n",
            "Epoch 121/200\n",
            "1/1 [==============================] - 0s 9ms/step - loss: 0.5700 - accuracy: 0.7500\n",
            "Epoch 122/200\n",
            "1/1 [==============================] - 0s 9ms/step - loss: 0.5698 - accuracy: 0.7500\n",
            "Epoch 123/200\n",
            "1/1 [==============================] - 0s 13ms/step - loss: 0.5695 - accuracy: 0.7500\n",
            "Epoch 124/200\n",
            "1/1 [==============================] - 0s 9ms/step - loss: 0.5692 - accuracy: 0.7500\n",
            "Epoch 125/200\n",
            "1/1 [==============================] - 0s 12ms/step - loss: 0.5689 - accuracy: 0.7500\n",
            "Epoch 126/200\n",
            "1/1 [==============================] - 0s 11ms/step - loss: 0.5687 - accuracy: 0.7500\n",
            "Epoch 127/200\n",
            "1/1 [==============================] - 0s 10ms/step - loss: 0.5684 - accuracy: 0.7500\n",
            "Epoch 128/200\n",
            "1/1 [==============================] - 0s 11ms/step - loss: 0.5681 - accuracy: 0.7500\n",
            "Epoch 129/200\n",
            "1/1 [==============================] - 0s 11ms/step - loss: 0.5678 - accuracy: 0.7500\n",
            "Epoch 130/200\n",
            "1/1 [==============================] - 0s 12ms/step - loss: 0.5676 - accuracy: 0.7500\n",
            "Epoch 131/200\n",
            "1/1 [==============================] - 0s 12ms/step - loss: 0.5673 - accuracy: 0.7500\n",
            "Epoch 132/200\n",
            "1/1 [==============================] - 0s 14ms/step - loss: 0.5670 - accuracy: 0.7500\n",
            "Epoch 133/200\n",
            "1/1 [==============================] - 0s 11ms/step - loss: 0.5668 - accuracy: 0.7500\n",
            "Epoch 134/200\n",
            "1/1 [==============================] - 0s 11ms/step - loss: 0.5665 - accuracy: 0.7500\n",
            "Epoch 135/200\n",
            "1/1 [==============================] - 0s 11ms/step - loss: 0.5662 - accuracy: 0.7500\n",
            "Epoch 136/200\n",
            "1/1 [==============================] - 0s 10ms/step - loss: 0.5660 - accuracy: 0.7500\n",
            "Epoch 137/200\n",
            "1/1 [==============================] - 0s 10ms/step - loss: 0.5657 - accuracy: 0.7500\n",
            "Epoch 138/200\n",
            "1/1 [==============================] - 0s 12ms/step - loss: 0.5654 - accuracy: 0.7500\n",
            "Epoch 139/200\n",
            "1/1 [==============================] - 0s 10ms/step - loss: 0.5652 - accuracy: 0.7500\n",
            "Epoch 140/200\n",
            "1/1 [==============================] - 0s 11ms/step - loss: 0.5649 - accuracy: 0.7500\n",
            "Epoch 141/200\n",
            "1/1 [==============================] - 0s 13ms/step - loss: 0.5646 - accuracy: 0.7500\n",
            "Epoch 142/200\n",
            "1/1 [==============================] - 0s 11ms/step - loss: 0.5643 - accuracy: 0.7500\n",
            "Epoch 143/200\n",
            "1/1 [==============================] - 0s 12ms/step - loss: 0.5641 - accuracy: 0.7500\n",
            "Epoch 144/200\n",
            "1/1 [==============================] - 0s 11ms/step - loss: 0.5638 - accuracy: 0.7500\n",
            "Epoch 145/200\n",
            "1/1 [==============================] - 0s 12ms/step - loss: 0.5635 - accuracy: 0.7500\n",
            "Epoch 146/200\n",
            "1/1 [==============================] - 0s 10ms/step - loss: 0.5632 - accuracy: 0.7500\n",
            "Epoch 147/200\n",
            "1/1 [==============================] - 0s 11ms/step - loss: 0.5629 - accuracy: 0.7500\n",
            "Epoch 148/200\n",
            "1/1 [==============================] - 0s 11ms/step - loss: 0.5626 - accuracy: 0.7500\n",
            "Epoch 149/200\n",
            "1/1 [==============================] - 0s 13ms/step - loss: 0.5624 - accuracy: 0.7500\n",
            "Epoch 150/200\n",
            "1/1 [==============================] - 0s 12ms/step - loss: 0.5621 - accuracy: 0.7500\n",
            "Epoch 151/200\n",
            "1/1 [==============================] - 0s 13ms/step - loss: 0.5618 - accuracy: 0.7500\n",
            "Epoch 152/200\n",
            "1/1 [==============================] - 0s 11ms/step - loss: 0.5615 - accuracy: 0.7500\n",
            "Epoch 153/200\n",
            "1/1 [==============================] - 0s 16ms/step - loss: 0.5612 - accuracy: 0.7500\n",
            "Epoch 154/200\n",
            "1/1 [==============================] - 0s 11ms/step - loss: 0.5609 - accuracy: 0.7500\n",
            "Epoch 155/200\n",
            "1/1 [==============================] - 0s 12ms/step - loss: 0.5606 - accuracy: 0.7500\n",
            "Epoch 156/200\n",
            "1/1 [==============================] - 0s 11ms/step - loss: 0.5603 - accuracy: 0.7500\n",
            "Epoch 157/200\n",
            "1/1 [==============================] - 0s 14ms/step - loss: 0.5599 - accuracy: 0.7500\n",
            "Epoch 158/200\n",
            "1/1 [==============================] - 0s 13ms/step - loss: 0.5596 - accuracy: 0.7500\n",
            "Epoch 159/200\n",
            "1/1 [==============================] - 0s 14ms/step - loss: 0.5593 - accuracy: 0.7500\n",
            "Epoch 160/200\n",
            "1/1 [==============================] - 0s 16ms/step - loss: 0.5590 - accuracy: 0.7500\n",
            "Epoch 161/200\n",
            "1/1 [==============================] - 0s 13ms/step - loss: 0.5586 - accuracy: 0.7500\n",
            "Epoch 162/200\n",
            "1/1 [==============================] - 0s 13ms/step - loss: 0.5583 - accuracy: 0.7500\n",
            "Epoch 163/200\n",
            "1/1 [==============================] - 0s 13ms/step - loss: 0.5580 - accuracy: 0.7500\n",
            "Epoch 164/200\n",
            "1/1 [==============================] - 0s 12ms/step - loss: 0.5576 - accuracy: 0.7500\n",
            "Epoch 165/200\n",
            "1/1 [==============================] - 0s 10ms/step - loss: 0.5573 - accuracy: 0.7500\n",
            "Epoch 166/200\n",
            "1/1 [==============================] - 0s 11ms/step - loss: 0.5569 - accuracy: 0.7500\n",
            "Epoch 167/200\n",
            "1/1 [==============================] - 0s 11ms/step - loss: 0.5566 - accuracy: 0.7500\n",
            "Epoch 168/200\n",
            "1/1 [==============================] - 0s 11ms/step - loss: 0.5562 - accuracy: 0.7500\n",
            "Epoch 169/200\n",
            "1/1 [==============================] - 0s 12ms/step - loss: 0.5558 - accuracy: 0.7500\n",
            "Epoch 170/200\n",
            "1/1 [==============================] - 0s 10ms/step - loss: 0.5554 - accuracy: 0.7500\n",
            "Epoch 171/200\n",
            "1/1 [==============================] - 0s 11ms/step - loss: 0.5550 - accuracy: 0.7500\n",
            "Epoch 172/200\n",
            "1/1 [==============================] - 0s 11ms/step - loss: 0.5546 - accuracy: 0.7500\n",
            "Epoch 173/200\n",
            "1/1 [==============================] - 0s 10ms/step - loss: 0.5542 - accuracy: 0.7500\n",
            "Epoch 174/200\n",
            "1/1 [==============================] - 0s 11ms/step - loss: 0.5538 - accuracy: 0.7500\n",
            "Epoch 175/200\n",
            "1/1 [==============================] - 0s 10ms/step - loss: 0.5534 - accuracy: 0.7500\n",
            "Epoch 176/200\n",
            "1/1 [==============================] - 0s 11ms/step - loss: 0.5530 - accuracy: 0.7500\n",
            "Epoch 177/200\n",
            "1/1 [==============================] - 0s 11ms/step - loss: 0.5525 - accuracy: 0.7500\n",
            "Epoch 178/200\n",
            "1/1 [==============================] - 0s 12ms/step - loss: 0.5521 - accuracy: 0.7500\n",
            "Epoch 179/200\n",
            "1/1 [==============================] - 0s 10ms/step - loss: 0.5516 - accuracy: 0.7500\n",
            "Epoch 180/200\n",
            "1/1 [==============================] - 0s 11ms/step - loss: 0.5512 - accuracy: 0.7500\n",
            "Epoch 181/200\n",
            "1/1 [==============================] - 0s 12ms/step - loss: 0.5507 - accuracy: 0.7500\n",
            "Epoch 182/200\n",
            "1/1 [==============================] - 0s 11ms/step - loss: 0.5502 - accuracy: 0.7500\n",
            "Epoch 183/200\n",
            "1/1 [==============================] - 0s 11ms/step - loss: 0.5497 - accuracy: 0.7500\n",
            "Epoch 184/200\n",
            "1/1 [==============================] - 0s 10ms/step - loss: 0.5492 - accuracy: 0.7500\n",
            "Epoch 185/200\n",
            "1/1 [==============================] - 0s 11ms/step - loss: 0.5487 - accuracy: 0.7500\n",
            "Epoch 186/200\n",
            "1/1 [==============================] - 0s 11ms/step - loss: 0.5482 - accuracy: 0.7500\n",
            "Epoch 187/200\n",
            "1/1 [==============================] - 0s 12ms/step - loss: 0.5476 - accuracy: 0.7500\n",
            "Epoch 188/200\n",
            "1/1 [==============================] - 0s 13ms/step - loss: 0.5471 - accuracy: 0.7500\n",
            "Epoch 189/200\n",
            "1/1 [==============================] - 0s 13ms/step - loss: 0.5465 - accuracy: 0.7500\n",
            "Epoch 190/200\n",
            "1/1 [==============================] - 0s 10ms/step - loss: 0.5459 - accuracy: 0.7500\n",
            "Epoch 191/200\n",
            "1/1 [==============================] - 0s 9ms/step - loss: 0.5454 - accuracy: 0.7500\n",
            "Epoch 192/200\n",
            "1/1 [==============================] - 0s 13ms/step - loss: 0.5448 - accuracy: 0.7500\n",
            "Epoch 193/200\n",
            "1/1 [==============================] - 0s 17ms/step - loss: 0.5441 - accuracy: 0.7500\n",
            "Epoch 194/200\n",
            "1/1 [==============================] - 0s 12ms/step - loss: 0.5435 - accuracy: 0.7500\n",
            "Epoch 195/200\n",
            "1/1 [==============================] - 0s 12ms/step - loss: 0.5429 - accuracy: 0.7500\n",
            "Epoch 196/200\n",
            "1/1 [==============================] - 0s 16ms/step - loss: 0.5422 - accuracy: 0.7500\n",
            "Epoch 197/200\n",
            "1/1 [==============================] - 0s 14ms/step - loss: 0.5415 - accuracy: 0.7500\n",
            "Epoch 198/200\n",
            "1/1 [==============================] - 0s 12ms/step - loss: 0.5408 - accuracy: 0.7500\n",
            "Epoch 199/200\n",
            "1/1 [==============================] - 0s 10ms/step - loss: 0.5401 - accuracy: 0.7500\n",
            "Epoch 200/200\n",
            "1/1 [==============================] - 0s 11ms/step - loss: 0.5394 - accuracy: 0.7500\n"
          ]
        },
        {
          "output_type": "display_data",
          "data": {
            "text/plain": [
              "<Figure size 4000x600 with 5 Axes>"
            ],
            "image/png": "[encoded data removed]"
          },
          "metadata": {}
        }
      ]
    },
    {
      "cell_type": "markdown",
      "source": [
        "# __Tablas de verdad__"
      ],
      "metadata": {
        "id": "IWjtGIgXDzSc"
      }
    },
    {
      "cell_type": "code",
      "source": [
        "!pip install truth-table-generator"
      ],
      "metadata": {
        "id": "h1GG89HLD2Xh"
      },
      "execution_count": null,
      "outputs": []
    },
    {
      "cell_type": "code",
      "source": [
        "import ttg\n",
        "\n",
        "table = ttg.Truths(['x_1', 'x_2'],['x_1 xor x_2'])\n",
        "print(table)"
      ],
      "metadata": {
        "colab": {
          "base_uri": "https://localhost:8080/"
        },
        "id": "AOJrP0RiD9rR",
        "outputId": "edf7a483-3d0f-49c0-beb7-a2cc0afa35a1"
      },
      "execution_count": 42,
      "outputs": [
        {
          "output_type": "stream",
          "name": "stdout",
          "text": [
            "+-------+-------+---------------+\n",
            "|  x_1  |  x_2  |  x_1 xor x_2  |\n",
            "|-------+-------+---------------|\n",
            "|   1   |   1   |       0       |\n",
            "|   1   |   0   |       1       |\n",
            "|   0   |   1   |       1       |\n",
            "|   0   |   0   |       0       |\n",
            "+-------+-------+---------------+\n"
          ]
        }
      ]
    },
    {
      "cell_type": "code",
      "source": [
        "table_ = ttg.Truths(['In_1', 'In_2'],['In_1 xor In_2'])\n",
        "print(table_)"
      ],
      "metadata": {
        "colab": {
          "base_uri": "https://localhost:8080/"
        },
        "id": "mbchQHVm4S6S",
        "outputId": "d4b30c8f-1245-40c8-a94c-63b4da0941ed"
      },
      "execution_count": 43,
      "outputs": [
        {
          "output_type": "stream",
          "name": "stdout",
          "text": [
            "+--------+--------+-----------------+\n",
            "|  In_1  |  In_2  |  In_1 xor In_2  |\n",
            "|--------+--------+-----------------|\n",
            "|   1    |   1    |        0        |\n",
            "|   1    |   0    |        1        |\n",
            "|   0    |   1    |        1        |\n",
            "|   0    |   0    |        0        |\n",
            "+--------+--------+-----------------+\n"
          ]
        }
      ]
    },
    {
      "cell_type": "code",
      "source": [
        "table = ttg.Truths(['x_1', 'x_2'],['not( (x_1 or not(x_2)) and (not(x_1) or x_2)))'])\n",
        "print(table)"
      ],
      "metadata": {
        "colab": {
          "base_uri": "https://localhost:8080/"
        },
        "id": "AoRZDCpVEDfz",
        "outputId": "d81fd7c9-2a0a-4ad6-e310-93dc3d380356"
      },
      "execution_count": 44,
      "outputs": [
        {
          "output_type": "stream",
          "name": "stdout",
          "text": [
            "+-------+-------+--------------------------------------------------+\n",
            "|  x_1  |  x_2  |  not( (x_1 or not(x_2)) and (not(x_1) or x_2)))  |\n",
            "|-------+-------+--------------------------------------------------|\n",
            "|   1   |   1   |                        0                         |\n",
            "|   1   |   0   |                        1                         |\n",
            "|   0   |   1   |                        1                         |\n",
            "|   0   |   0   |                        0                         |\n",
            "+-------+-------+--------------------------------------------------+\n"
          ]
        }
      ]
    },
    {
      "cell_type": "code",
      "source": [
        "table = ttg.Truths(['x_1', 'x_2'],['(x_1 or x_2) and not(x_1 and x_2)'])\n",
        "print(table)"
      ],
      "metadata": {
        "colab": {
          "base_uri": "https://localhost:8080/"
        },
        "id": "N-hGlnALEhx-",
        "outputId": "81c40b16-0e48-4a88-e0ab-525f1b330491"
      },
      "execution_count": 45,
      "outputs": [
        {
          "output_type": "stream",
          "name": "stdout",
          "text": [
            "+-------+-------+-------------------------------------+\n",
            "|  x_1  |  x_2  |  (x_1 or x_2) and not(x_1 and x_2)  |\n",
            "|-------+-------+-------------------------------------|\n",
            "|   1   |   1   |                  0                  |\n",
            "|   1   |   0   |                  1                  |\n",
            "|   0   |   1   |                  1                  |\n",
            "|   0   |   0   |                  0                  |\n",
            "+-------+-------+-------------------------------------+\n"
          ]
        }
      ]
    },
    {
      "cell_type": "code",
      "source": [],
      "metadata": {
        "id": "kL93rwpE6KIx"
      },
      "execution_count": null,
      "outputs": []
    },
    {
      "cell_type": "code",
      "source": [
        "#Probar el modelo con las otras compuertas\n"
      ],
      "metadata": {
        "id": "JJWzRV9S6LEU"
      },
      "execution_count": null,
      "outputs": []
    }
  ]
}